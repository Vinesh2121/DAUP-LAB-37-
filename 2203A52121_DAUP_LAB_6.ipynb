{
  "nbformat": 4,
  "nbformat_minor": 0,
  "metadata": {
    "colab": {
      "provenance": [],
      "gpuType": "T4",
      "include_colab_link": true
    },
    "kernelspec": {
      "name": "python3",
      "display_name": "Python 3"
    },
    "language_info": {
      "name": "python"
    },
    "accelerator": "GPU"
  },
  "cells": [
    {
      "cell_type": "markdown",
      "metadata": {
        "id": "view-in-github",
        "colab_type": "text"
      },
      "source": [
        "<a href=\"https://colab.research.google.com/github/Vinesh2121/DAUP-LAB-37-/blob/main/2203A52121_DAUP_LAB_6.ipynb\" target=\"_parent\"><img src=\"https://colab.research.google.com/assets/colab-badge.svg\" alt=\"Open In Colab\"/></a>"
      ]
    },
    {
      "cell_type": "code",
      "execution_count": 7,
      "metadata": {
        "colab": {
          "base_uri": "https://localhost:8080/"
        },
        "id": "6Lb3z_zPjm0y",
        "outputId": "cf41a2f2-fff3-4e36-b0a3-5d5b16e08ac5"
      },
      "outputs": [
        {
          "output_type": "stream",
          "name": "stdout",
          "text": [
            "P(A) = 0.5010\n",
            "P(B) = 0.3110\n",
            "P(A ∩ B) = 0.1720\n",
            "P(A ∪ B) = 0.6400\n",
            "P(A | B) = 0.5531\n",
            "P(Health & Beauty) = 0.1520\n",
            "P(Quantity > 5 | Ewallet) = 0.4870\n",
            "P(Cash | Yangon) = 0.3235\n",
            "P(Member & Rating > 8) = 0.1570\n",
            "Permutations of 5 transactions from 20: 1860480\n",
            "Combinations of 3 product lines from 6: 20\n",
            "Factorial of branch count: 6\n",
            "Permutations of 4 payment methods from 3: 6\n",
            "Combinations of 5 employees from 15: 3003\n",
            "Unique invoice codes (6 letters from 26): 165765600\n"
          ]
        }
      ],
      "source": [
        "import pandas as pd\n",
        "import math\n",
        "from itertools import permutations, combinations\n",
        "\n",
        "df = pd.read_csv('/content/supermarket_sales -.csv')\n",
        "\n",
        "# Total transactions\n",
        "total_transactions = len(df)\n",
        "\n",
        "# Define events\n",
        "event_A = df[\"Customer type\"] == \"Member\"  # Transactions made by Members\n",
        "event_B = df[\"Payment\"] == \"Credit card\"   # Transactions made using Credit Card\n",
        "\n",
        "# Compute probabilities\n",
        "P_A = event_A.sum() / total_transactions\n",
        "P_B = event_B.sum() / total_transactions\n",
        "P_A_inter_B = (event_A & event_B).sum() / total_transactions\n",
        "P_A_union_B = P_A + P_B - P_A_inter_B\n",
        "P_A_given_B = P_A_inter_B / P_B\n",
        "\n",
        "# Probability that a transaction belongs to the Health & Beauty product line\n",
        "P_health_beauty = (df[\"Product line\"] == \"Health and beauty\").sum() / total_transactions\n",
        "\n",
        "# Probability that a customer using Ewallet purchased more than 5 items\n",
        "P_more_than_5_given_Ewallet = ((df[\"Payment\"] == \"Ewallet\") & (df[\"Quantity\"] > 5)).sum() / (df[\"Payment\"] == \"Ewallet\").sum()\n",
        "\n",
        "# Probability that a randomly selected transaction from Yangon used Cash\n",
        "P_Cash_given_Yangon = ((df[\"City\"] == \"Yangon\") & (df[\"Payment\"] == \"Cash\")).sum() / (df[\"City\"] == \"Yangon\").sum()\n",
        "\n",
        "# Probability of selecting a Member customer who gave a rating above 8\n",
        "P_Member_high_rating = ((df[\"Customer type\"] == \"Member\") & (df[\"Rating\"] > 8)).sum() / total_transactions\n",
        "\n",
        "# Factorial function\n",
        "def factorial(n):\n",
        "    return math.factorial(n)\n",
        "\n",
        "# Permutation function\n",
        "def permutation(n, r):\n",
        "    return math.factorial(n) // math.factorial(n - r)\n",
        "\n",
        "# Combination function\n",
        "def combination(n, r):\n",
        "    return math.factorial(n) // (math.factorial(r) * math.factorial(n - r))\n",
        "\n",
        "# Calculate permutations and combinations\n",
        "perm_transactions = permutation(20, 5)  # Ways to arrange 5 transactions from 20\n",
        "comb_product_lines = combination(6, 3)  # Ways to select 3 product lines from 6\n",
        "fact_branches = factorial(len(df[\"Branch\"].unique()))  # Factorial of different branches\n",
        "perm_payment_methods = permutation(3, 3)  # Ways to arrange 3 methods from 3 - Changed to a valid calculation\n",
        "comb_employees = combination(15, 5)  # Ways to select 5 employees from 15\n",
        "perm_invoice_codes = permutation(26, 6)  # Ways to create invoice codes from 26 letters\n",
        "\n",
        "# Display results\n",
        "print(f\"P(A) = {P_A:.4f}\")\n",
        "print(f\"P(B) = {P_B:.4f}\")\n",
        "print(f\"P(A ∩ B) = {P_A_inter_B:.4f}\")\n",
        "print(f\"P(A ∪ B) = {P_A_union_B:.4f}\")\n",
        "print(f\"P(A | B) = {P_A_given_B:.4f}\")\n",
        "print(f\"P(Health & Beauty) = {P_health_beauty:.4f}\")\n",
        "print(f\"P(Quantity > 5 | Ewallet) = {P_more_than_5_given_Ewallet:.4f}\")\n",
        "print(f\"P(Cash | Yangon) = {P_Cash_given_Yangon:.4f}\")\n",
        "print(f\"P(Member & Rating > 8) = {P_Member_high_rating:.4f}\")\n",
        "\n",
        "print(f\"Permutations of 5 transactions from 20: {perm_transactions}\")\n",
        "print(f\"Combinations of 3 product lines from 6: {comb_product_lines}\")\n",
        "print(f\"Factorial of branch count: {fact_branches}\")\n",
        "print(f\"Permutations of 4 payment methods from 3: {perm_payment_methods}\")\n",
        "print(f\"Combinations of 5 employees from 15: {comb_employees}\")\n",
        "print(f\"Unique invoice codes (6 letters from 26): {perm_invoice_codes}\")\n"
      ]
    },
    {
      "source": [
        "import pandas as pd\n",
        "import math\n",
        "from itertools import permutations, combinations\n",
        "\n",
        "df = pd.read_csv('/content/supermarket_sales -.csv')\n",
        "\n",
        "total_transactions = len(df)\n",
        "\n",
        "event_A = df[\"Customer type\"] == \"Member\"\n",
        "event_B = df[\"Payment\"] == \"Credit card\"\n",
        "\n",
        "P_A = event_A.sum() / total_transactions\n",
        "P_B = event_B.sum() / total_transactions\n",
        "P_A_inter_B = (event_A & event_B).sum() / total_transactions\n",
        "P_A_union_B = P_A + P_B - P_A_inter_B\n",
        "P_A_given_B = P_A_inter_B / P_B\n",
        "\n",
        "P_health_beauty = (df[\"Product line\"] == \"Health and beauty\").sum() / total_transactions\n",
        "\n",
        "P_more_than_5_given_Ewallet = ((df[\"Payment\"] == \"Ewallet\") & (df[\"Quantity\"] > 5)).sum() / (df[\"Payment\"] == \"Ewallet\").sum()\n",
        "\n",
        "P_Cash_given_Yangon = ((df[\"City\"] == \"Yangon\") & (df[\"Payment\"] == \"Cash\")).sum() / (df[\"City\"] == \"Yangon\").sum()\n",
        "\n",
        "P_Member_high_rating = ((df[\"Customer type\"] == \"Member\") & (df[\"Rating\"] > 8)).sum() / total_transactions\n",
        "\n",
        "def factorial(n):\n",
        "    return math.factorial(n)\n",
        "\n",
        "def permutation(n, r):\n",
        "    return math.factorial(n) // math.factorial(n - r)\n",
        "\n",
        "def combination(n, r):\n",
        "    return math.factorial(n) // (math.factorial(r) * math.factorial(n - r))\n",
        "\n",
        "perm_transactions = permutation(20, 5)\n",
        "comb_product_lines = combination(6, 3)\n",
        "fact_branches = factorial(len(df[\"Branch\"].unique()))\n",
        "\n",
        "\n",
        "perm_payment_methods = permutation(3, 3)\n",
        "\n",
        "comb_employees = combination(15, 5)\n",
        "perm_invoice_codes = permutation(26, 6)\n",
        "\n",
        "print(f\"P(A) = {P_A:.4f}\")\n",
        "print(f\"P(B) = {P_B:.4f}\")\n",
        "print(f\"P(A ∩ B) = {P_A_inter_B:.4f}\")\n",
        "print(f\"P(A ∪ B) = {P_A_union_B:.4f}\")\n",
        "print(f\"P(A | B) = {P_A_given_B:.4f}\")\n",
        "print(f\"P(Health & Beauty) = {P_health_beauty:.4f}\")\n",
        "print(f\"P(Quantity > 5 | Ewallet) = {P_more_than_5_given_Ewallet:.4f}\")\n",
        "print(f\"P(Cash | Yangon) = {P_Cash_given_Yangon:.4f}\")\n",
        "print(f\"P(Member & Rating > 8) = {P_Member_high_rating:.4f}\")\n",
        "\n",
        "print(f\"Permutations of 5 transactions from 20: {perm_transactions}\")\n",
        "print(f\"Combinations of 3 product lines from 6: {comb_product_lines}\")\n",
        "print(f\"Factorial of branch count: {fact_branches}\")\n",
        "print(f\"Permutations of 3 payment methods from 3: {perm_payment_methods}\")\n",
        "print(f\"Combinations of 5 employees from 15: {comb_employees}\")\n",
        "print(f\"Unique invoice codes (6 letters from 26): {perm_invoice_codes}\")"
      ],
      "cell_type": "code",
      "metadata": {
        "colab": {
          "base_uri": "https://localhost:8080/"
        },
        "id": "svJLYwW2kVJX",
        "outputId": "9d1ed804-6250-40cb-e031-8c6ea264ef94"
      },
      "execution_count": 4,
      "outputs": [
        {
          "output_type": "stream",
          "name": "stdout",
          "text": [
            "P(A) = 0.5010\n",
            "P(B) = 0.3110\n",
            "P(A ∩ B) = 0.1720\n",
            "P(A ∪ B) = 0.6400\n",
            "P(A | B) = 0.5531\n",
            "P(Health & Beauty) = 0.1520\n",
            "P(Quantity > 5 | Ewallet) = 0.4870\n",
            "P(Cash | Yangon) = 0.3235\n",
            "P(Member & Rating > 8) = 0.1570\n",
            "Permutations of 5 transactions from 20: 1860480\n",
            "Combinations of 3 product lines from 6: 20\n",
            "Factorial of branch count: 6\n",
            "Permutations of 3 payment methods from 3: 6\n",
            "Combinations of 5 employees from 15: 3003\n",
            "Unique invoice codes (6 letters from 26): 165765600\n"
          ]
        }
      ]
    }
  ]
}